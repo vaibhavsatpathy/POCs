{
 "cells": [
  {
   "cell_type": "code",
   "execution_count": 1,
   "metadata": {},
   "outputs": [
    {
     "name": "stderr",
     "output_type": "stream",
     "text": [
      "Using TensorFlow backend.\n"
     ]
    }
   ],
   "source": [
    "import pandas as pd\n",
    "import keras\n",
    "from keras.models import Sequential,Model\n",
    "from keras.layers import Dense,Input\n",
    "from keras.utils import to_categorical\n",
    "import numpy as np\n",
    "from sklearn.preprocessing import LabelEncoder\n",
    "from sklearn.preprocessing import OneHotEncoder\n",
    "from sklearn.model_selection import train_test_split"
   ]
  },
  {
   "cell_type": "code",
   "execution_count": 2,
   "metadata": {},
   "outputs": [],
   "source": [
    "data=pd.read_csv('test_data.csv')\n",
    "columns=data.columns\n",
    "\n",
    "x=[]\n",
    "y=[]\n",
    "for name in columns:\n",
    "    if name=='usingPhone':\n",
    "        y.append(data['usingPhone'])\n",
    "    else:\n",
    "        x.append(data[name])"
   ]
  },
  {
   "cell_type": "code",
   "execution_count": 3,
   "metadata": {},
   "outputs": [],
   "source": [
    "label_encoder=LabelEncoder()\n",
    "days_encoded=label_encoder.fit_transform(x[0])\n",
    "days_fin_enc=to_categorical(days_encoded,num_classes=len(np.unique(days_encoded)))"
   ]
  },
  {
   "cell_type": "code",
   "execution_count": 4,
   "metadata": {},
   "outputs": [],
   "source": [
    "X=[]\n",
    "for i in range(len(days_fin_enc)):\n",
    "    temp=[]\n",
    "    temp.append(float(days_encoded[i]))\n",
    "    temp.append(float(x[1][i]))\n",
    "    X.append(temp)\n",
    "    \n",
    "X=np.asarray(X)\n",
    "\n",
    "Y=to_categorical(y[0])"
   ]
  },
  {
   "cell_type": "code",
   "execution_count": 5,
   "metadata": {},
   "outputs": [],
   "source": [
    "X_train, X_test, y_train, y_test = train_test_split(X, Y, test_size=0.33, random_state=42)"
   ]
  },
  {
   "cell_type": "code",
   "execution_count": 6,
   "metadata": {},
   "outputs": [
    {
     "name": "stdout",
     "output_type": "stream",
     "text": [
      "Model: \"model_1\"\n",
      "_________________________________________________________________\n",
      "Layer (type)                 Output Shape              Param #   \n",
      "=================================================================\n",
      "input_1 (InputLayer)         (None, 2)                 0         \n",
      "_________________________________________________________________\n",
      "dense_1 (Dense)              (None, 16)                48        \n",
      "_________________________________________________________________\n",
      "dense_2 (Dense)              (None, 2)                 34        \n",
      "=================================================================\n",
      "Total params: 82\n",
      "Trainable params: 82\n",
      "Non-trainable params: 0\n",
      "_________________________________________________________________\n"
     ]
    }
   ],
   "source": [
    "# model=Sequential()\n",
    "# model.add(keras.engine.input_layer.Input(shape=(X.shape[0],X.shape[1],)))\n",
    "# model.add(Dense(8,input_shape=(X.shape[0],X.shape[1],),activation='relu'))\n",
    "# model.summary()\n",
    "\n",
    "inp=Input(shape=(X.shape[1],))\n",
    "x=Dense(16,activation='relu')(inp)\n",
    "output=Dense(2,activation='softmax')(x)\n",
    "model=Model(inp,output)\n",
    "model.summary()"
   ]
  },
  {
   "cell_type": "code",
   "execution_count": 7,
   "metadata": {},
   "outputs": [
    {
     "name": "stdout",
     "output_type": "stream",
     "text": [
      "WARNING:tensorflow:From //anaconda3/lib/python3.7/site-packages/keras/backend/tensorflow_backend.py:422: The name tf.global_variables is deprecated. Please use tf.compat.v1.global_variables instead.\n",
      "\n",
      "Train on 112 samples, validate on 56 samples\n",
      "Epoch 1/100\n",
      "112/112 [==============================] - 0s 857us/step - loss: 1.4326 - accuracy: 0.2143 - val_loss: 1.0307 - val_accuracy: 0.2679\n",
      "Epoch 2/100\n",
      "112/112 [==============================] - 0s 79us/step - loss: 1.1018 - accuracy: 0.3125 - val_loss: 0.7862 - val_accuracy: 0.4286\n",
      "Epoch 3/100\n",
      "112/112 [==============================] - 0s 79us/step - loss: 0.8513 - accuracy: 0.4464 - val_loss: 0.6373 - val_accuracy: 0.5714\n",
      "Epoch 4/100\n",
      "112/112 [==============================] - 0s 60us/step - loss: 0.6980 - accuracy: 0.5625 - val_loss: 0.5760 - val_accuracy: 0.6964\n",
      "Epoch 5/100\n",
      "112/112 [==============================] - 0s 64us/step - loss: 0.6154 - accuracy: 0.6696 - val_loss: 0.5734 - val_accuracy: 0.7857\n",
      "Epoch 6/100\n",
      "112/112 [==============================] - 0s 56us/step - loss: 0.5843 - accuracy: 0.6964 - val_loss: 0.5907 - val_accuracy: 0.7679\n",
      "Epoch 7/100\n",
      "112/112 [==============================] - 0s 61us/step - loss: 0.5766 - accuracy: 0.7321 - val_loss: 0.6067 - val_accuracy: 0.7857\n",
      "Epoch 8/100\n",
      "112/112 [==============================] - 0s 58us/step - loss: 0.5729 - accuracy: 0.7500 - val_loss: 0.6123 - val_accuracy: 0.7500\n",
      "Epoch 9/100\n",
      "112/112 [==============================] - 0s 64us/step - loss: 0.5719 - accuracy: 0.7321 - val_loss: 0.6124 - val_accuracy: 0.7321\n",
      "Epoch 10/100\n",
      "112/112 [==============================] - 0s 56us/step - loss: 0.5695 - accuracy: 0.7500 - val_loss: 0.6065 - val_accuracy: 0.7500\n",
      "Epoch 11/100\n",
      "112/112 [==============================] - 0s 55us/step - loss: 0.5666 - accuracy: 0.7500 - val_loss: 0.6014 - val_accuracy: 0.7500\n",
      "Epoch 12/100\n",
      "112/112 [==============================] - 0s 60us/step - loss: 0.5648 - accuracy: 0.7500 - val_loss: 0.5943 - val_accuracy: 0.7500\n",
      "Epoch 13/100\n",
      "112/112 [==============================] - 0s 56us/step - loss: 0.5623 - accuracy: 0.7500 - val_loss: 0.5915 - val_accuracy: 0.7500\n",
      "Epoch 14/100\n",
      "112/112 [==============================] - 0s 59us/step - loss: 0.5607 - accuracy: 0.7500 - val_loss: 0.5890 - val_accuracy: 0.7500\n",
      "Epoch 15/100\n",
      "112/112 [==============================] - 0s 55us/step - loss: 0.5586 - accuracy: 0.7500 - val_loss: 0.5862 - val_accuracy: 0.7500\n",
      "Epoch 16/100\n",
      "112/112 [==============================] - 0s 52us/step - loss: 0.5579 - accuracy: 0.7500 - val_loss: 0.5815 - val_accuracy: 0.7500\n",
      "Epoch 17/100\n",
      "112/112 [==============================] - 0s 51us/step - loss: 0.5549 - accuracy: 0.7500 - val_loss: 0.5831 - val_accuracy: 0.7321\n",
      "Epoch 18/100\n",
      "112/112 [==============================] - 0s 52us/step - loss: 0.5533 - accuracy: 0.7411 - val_loss: 0.5794 - val_accuracy: 0.7500\n",
      "Epoch 19/100\n",
      "112/112 [==============================] - 0s 51us/step - loss: 0.5513 - accuracy: 0.7321 - val_loss: 0.5814 - val_accuracy: 0.7321\n",
      "Epoch 20/100\n",
      "112/112 [==============================] - 0s 52us/step - loss: 0.5494 - accuracy: 0.7321 - val_loss: 0.5796 - val_accuracy: 0.7321\n",
      "Epoch 21/100\n",
      "112/112 [==============================] - 0s 50us/step - loss: 0.5472 - accuracy: 0.7589 - val_loss: 0.5784 - val_accuracy: 0.7321\n",
      "Epoch 22/100\n",
      "112/112 [==============================] - 0s 53us/step - loss: 0.5456 - accuracy: 0.7589 - val_loss: 0.5754 - val_accuracy: 0.7321\n",
      "Epoch 23/100\n",
      "112/112 [==============================] - 0s 53us/step - loss: 0.5435 - accuracy: 0.7589 - val_loss: 0.5739 - val_accuracy: 0.7321\n",
      "Epoch 24/100\n",
      "112/112 [==============================] - 0s 54us/step - loss: 0.5419 - accuracy: 0.7589 - val_loss: 0.5731 - val_accuracy: 0.7321\n",
      "Epoch 25/100\n",
      "112/112 [==============================] - 0s 54us/step - loss: 0.5404 - accuracy: 0.7768 - val_loss: 0.5725 - val_accuracy: 0.7321\n",
      "Epoch 26/100\n",
      "112/112 [==============================] - 0s 59us/step - loss: 0.5394 - accuracy: 0.7857 - val_loss: 0.5669 - val_accuracy: 0.7321\n",
      "Epoch 27/100\n",
      "112/112 [==============================] - 0s 58us/step - loss: 0.5371 - accuracy: 0.7679 - val_loss: 0.5696 - val_accuracy: 0.7321\n",
      "Epoch 28/100\n",
      "112/112 [==============================] - 0s 58us/step - loss: 0.5342 - accuracy: 0.7857 - val_loss: 0.5682 - val_accuracy: 0.7321\n",
      "Epoch 29/100\n",
      "112/112 [==============================] - 0s 57us/step - loss: 0.5333 - accuracy: 0.7857 - val_loss: 0.5666 - val_accuracy: 0.7321\n",
      "Epoch 30/100\n",
      "112/112 [==============================] - 0s 52us/step - loss: 0.5309 - accuracy: 0.7857 - val_loss: 0.5658 - val_accuracy: 0.7321\n",
      "Epoch 31/100\n",
      "112/112 [==============================] - 0s 50us/step - loss: 0.5289 - accuracy: 0.7857 - val_loss: 0.5610 - val_accuracy: 0.7321\n",
      "Epoch 32/100\n",
      "112/112 [==============================] - 0s 51us/step - loss: 0.5276 - accuracy: 0.7857 - val_loss: 0.5564 - val_accuracy: 0.7321\n",
      "Epoch 33/100\n",
      "112/112 [==============================] - 0s 55us/step - loss: 0.5266 - accuracy: 0.7768 - val_loss: 0.5537 - val_accuracy: 0.7321\n",
      "Epoch 34/100\n",
      "112/112 [==============================] - 0s 58us/step - loss: 0.5244 - accuracy: 0.7857 - val_loss: 0.5587 - val_accuracy: 0.7321\n",
      "Epoch 35/100\n",
      "112/112 [==============================] - 0s 59us/step - loss: 0.5221 - accuracy: 0.7857 - val_loss: 0.5594 - val_accuracy: 0.7321\n",
      "Epoch 36/100\n",
      "112/112 [==============================] - 0s 60us/step - loss: 0.5207 - accuracy: 0.7857 - val_loss: 0.5527 - val_accuracy: 0.7321\n",
      "Epoch 37/100\n",
      "112/112 [==============================] - 0s 52us/step - loss: 0.5174 - accuracy: 0.7857 - val_loss: 0.5517 - val_accuracy: 0.7321\n",
      "Epoch 38/100\n",
      "112/112 [==============================] - 0s 50us/step - loss: 0.5160 - accuracy: 0.7857 - val_loss: 0.5488 - val_accuracy: 0.7321\n",
      "Epoch 39/100\n",
      "112/112 [==============================] - 0s 49us/step - loss: 0.5145 - accuracy: 0.7857 - val_loss: 0.5481 - val_accuracy: 0.7321\n",
      "Epoch 40/100\n",
      "112/112 [==============================] - 0s 53us/step - loss: 0.5124 - accuracy: 0.7857 - val_loss: 0.5485 - val_accuracy: 0.7321\n",
      "Epoch 41/100\n",
      "112/112 [==============================] - 0s 54us/step - loss: 0.5103 - accuracy: 0.7857 - val_loss: 0.5488 - val_accuracy: 0.7321\n",
      "Epoch 42/100\n",
      "112/112 [==============================] - 0s 54us/step - loss: 0.5098 - accuracy: 0.7857 - val_loss: 0.5481 - val_accuracy: 0.7321\n",
      "Epoch 43/100\n",
      "112/112 [==============================] - 0s 51us/step - loss: 0.5069 - accuracy: 0.7857 - val_loss: 0.5455 - val_accuracy: 0.7321\n",
      "Epoch 44/100\n",
      "112/112 [==============================] - 0s 49us/step - loss: 0.5050 - accuracy: 0.7857 - val_loss: 0.5433 - val_accuracy: 0.7321\n",
      "Epoch 45/100\n",
      "112/112 [==============================] - 0s 49us/step - loss: 0.5034 - accuracy: 0.7857 - val_loss: 0.5421 - val_accuracy: 0.7321\n",
      "Epoch 46/100\n",
      "112/112 [==============================] - 0s 51us/step - loss: 0.5015 - accuracy: 0.7857 - val_loss: 0.5408 - val_accuracy: 0.7321\n",
      "Epoch 47/100\n",
      "112/112 [==============================] - 0s 50us/step - loss: 0.4997 - accuracy: 0.7857 - val_loss: 0.5374 - val_accuracy: 0.7321\n",
      "Epoch 48/100\n",
      "112/112 [==============================] - 0s 50us/step - loss: 0.4983 - accuracy: 0.7857 - val_loss: 0.5355 - val_accuracy: 0.7321\n",
      "Epoch 49/100\n",
      "112/112 [==============================] - 0s 49us/step - loss: 0.4971 - accuracy: 0.7857 - val_loss: 0.5344 - val_accuracy: 0.7321\n",
      "Epoch 50/100\n",
      "112/112 [==============================] - 0s 51us/step - loss: 0.4962 - accuracy: 0.7857 - val_loss: 0.5358 - val_accuracy: 0.7321\n",
      "Epoch 51/100\n",
      "112/112 [==============================] - 0s 51us/step - loss: 0.4962 - accuracy: 0.7857 - val_loss: 0.5265 - val_accuracy: 0.7321\n",
      "Epoch 52/100\n",
      "112/112 [==============================] - 0s 50us/step - loss: 0.4923 - accuracy: 0.7857 - val_loss: 0.5268 - val_accuracy: 0.7321\n",
      "Epoch 53/100\n",
      "112/112 [==============================] - 0s 50us/step - loss: 0.4900 - accuracy: 0.7857 - val_loss: 0.5301 - val_accuracy: 0.7321\n",
      "Epoch 54/100\n",
      "112/112 [==============================] - 0s 50us/step - loss: 0.4903 - accuracy: 0.7857 - val_loss: 0.5334 - val_accuracy: 0.7321\n",
      "Epoch 55/100\n",
      "112/112 [==============================] - 0s 51us/step - loss: 0.4864 - accuracy: 0.7857 - val_loss: 0.5285 - val_accuracy: 0.7321\n"
     ]
    },
    {
     "name": "stdout",
     "output_type": "stream",
     "text": [
      "Epoch 56/100\n",
      "112/112 [==============================] - 0s 54us/step - loss: 0.4849 - accuracy: 0.7857 - val_loss: 0.5227 - val_accuracy: 0.7321\n",
      "Epoch 57/100\n",
      "112/112 [==============================] - 0s 52us/step - loss: 0.4836 - accuracy: 0.7857 - val_loss: 0.5224 - val_accuracy: 0.7321\n",
      "Epoch 58/100\n",
      "112/112 [==============================] - 0s 49us/step - loss: 0.4824 - accuracy: 0.7857 - val_loss: 0.5183 - val_accuracy: 0.7321\n",
      "Epoch 59/100\n",
      "112/112 [==============================] - 0s 49us/step - loss: 0.4821 - accuracy: 0.7857 - val_loss: 0.5196 - val_accuracy: 0.7321\n",
      "Epoch 60/100\n",
      "112/112 [==============================] - 0s 51us/step - loss: 0.4796 - accuracy: 0.7857 - val_loss: 0.5214 - val_accuracy: 0.7321\n",
      "Epoch 61/100\n",
      "112/112 [==============================] - 0s 50us/step - loss: 0.4771 - accuracy: 0.7857 - val_loss: 0.5172 - val_accuracy: 0.7321\n",
      "Epoch 62/100\n",
      "112/112 [==============================] - 0s 50us/step - loss: 0.4762 - accuracy: 0.7857 - val_loss: 0.5190 - val_accuracy: 0.7321\n",
      "Epoch 63/100\n",
      "112/112 [==============================] - 0s 51us/step - loss: 0.4757 - accuracy: 0.7857 - val_loss: 0.5126 - val_accuracy: 0.7321\n",
      "Epoch 64/100\n",
      "112/112 [==============================] - 0s 50us/step - loss: 0.4731 - accuracy: 0.7857 - val_loss: 0.5120 - val_accuracy: 0.7321\n",
      "Epoch 65/100\n",
      "112/112 [==============================] - 0s 50us/step - loss: 0.4721 - accuracy: 0.7857 - val_loss: 0.5167 - val_accuracy: 0.7321\n",
      "Epoch 66/100\n",
      "112/112 [==============================] - 0s 50us/step - loss: 0.4702 - accuracy: 0.7857 - val_loss: 0.5162 - val_accuracy: 0.7321\n",
      "Epoch 67/100\n",
      "112/112 [==============================] - 0s 53us/step - loss: 0.4686 - accuracy: 0.7857 - val_loss: 0.5154 - val_accuracy: 0.7321\n",
      "Epoch 68/100\n",
      "112/112 [==============================] - 0s 54us/step - loss: 0.4694 - accuracy: 0.7857 - val_loss: 0.5068 - val_accuracy: 0.7321\n",
      "Epoch 69/100\n",
      "112/112 [==============================] - 0s 49us/step - loss: 0.4659 - accuracy: 0.7857 - val_loss: 0.5063 - val_accuracy: 0.7321\n",
      "Epoch 70/100\n",
      "112/112 [==============================] - 0s 51us/step - loss: 0.4647 - accuracy: 0.7857 - val_loss: 0.5069 - val_accuracy: 0.7321\n",
      "Epoch 71/100\n",
      "112/112 [==============================] - 0s 51us/step - loss: 0.4627 - accuracy: 0.7857 - val_loss: 0.5077 - val_accuracy: 0.7321\n",
      "Epoch 72/100\n",
      "112/112 [==============================] - 0s 52us/step - loss: 0.4616 - accuracy: 0.7857 - val_loss: 0.5059 - val_accuracy: 0.7321\n",
      "Epoch 73/100\n",
      "112/112 [==============================] - 0s 50us/step - loss: 0.4602 - accuracy: 0.7857 - val_loss: 0.5031 - val_accuracy: 0.7321\n",
      "Epoch 74/100\n",
      "112/112 [==============================] - 0s 50us/step - loss: 0.4590 - accuracy: 0.7857 - val_loss: 0.5036 - val_accuracy: 0.7321\n",
      "Epoch 75/100\n",
      "112/112 [==============================] - 0s 49us/step - loss: 0.4576 - accuracy: 0.7857 - val_loss: 0.5008 - val_accuracy: 0.7321\n",
      "Epoch 76/100\n",
      "112/112 [==============================] - 0s 52us/step - loss: 0.4563 - accuracy: 0.7857 - val_loss: 0.5012 - val_accuracy: 0.7321\n",
      "Epoch 77/100\n",
      "112/112 [==============================] - 0s 54us/step - loss: 0.4559 - accuracy: 0.7857 - val_loss: 0.4973 - val_accuracy: 0.7321\n",
      "Epoch 78/100\n",
      "112/112 [==============================] - 0s 49us/step - loss: 0.4548 - accuracy: 0.7857 - val_loss: 0.5015 - val_accuracy: 0.7321\n",
      "Epoch 79/100\n",
      "112/112 [==============================] - 0s 49us/step - loss: 0.4529 - accuracy: 0.7857 - val_loss: 0.5006 - val_accuracy: 0.7321\n",
      "Epoch 80/100\n",
      "112/112 [==============================] - 0s 50us/step - loss: 0.4510 - accuracy: 0.7857 - val_loss: 0.4960 - val_accuracy: 0.7321\n",
      "Epoch 81/100\n",
      "112/112 [==============================] - 0s 51us/step - loss: 0.4503 - accuracy: 0.7857 - val_loss: 0.4932 - val_accuracy: 0.7321\n",
      "Epoch 82/100\n",
      "112/112 [==============================] - 0s 52us/step - loss: 0.4488 - accuracy: 0.7857 - val_loss: 0.4915 - val_accuracy: 0.7321\n",
      "Epoch 83/100\n",
      "112/112 [==============================] - 0s 50us/step - loss: 0.4473 - accuracy: 0.7857 - val_loss: 0.4929 - val_accuracy: 0.7321\n",
      "Epoch 84/100\n",
      "112/112 [==============================] - 0s 50us/step - loss: 0.4496 - accuracy: 0.7857 - val_loss: 0.4974 - val_accuracy: 0.7321\n",
      "Epoch 85/100\n",
      "112/112 [==============================] - 0s 51us/step - loss: 0.4452 - accuracy: 0.7857 - val_loss: 0.4916 - val_accuracy: 0.7321\n",
      "Epoch 86/100\n",
      "112/112 [==============================] - 0s 51us/step - loss: 0.4489 - accuracy: 0.7857 - val_loss: 0.4838 - val_accuracy: 0.7321\n",
      "Epoch 87/100\n",
      "112/112 [==============================] - 0s 53us/step - loss: 0.4435 - accuracy: 0.7857 - val_loss: 0.4849 - val_accuracy: 0.7321\n",
      "Epoch 88/100\n",
      "112/112 [==============================] - 0s 54us/step - loss: 0.4421 - accuracy: 0.7857 - val_loss: 0.4860 - val_accuracy: 0.7321\n",
      "Epoch 89/100\n",
      "112/112 [==============================] - 0s 51us/step - loss: 0.4420 - accuracy: 0.7857 - val_loss: 0.4930 - val_accuracy: 0.7321\n",
      "Epoch 90/100\n",
      "112/112 [==============================] - 0s 49us/step - loss: 0.4416 - accuracy: 0.7857 - val_loss: 0.4932 - val_accuracy: 0.7321\n",
      "Epoch 91/100\n",
      "112/112 [==============================] - 0s 53us/step - loss: 0.4391 - accuracy: 0.7857 - val_loss: 0.4891 - val_accuracy: 0.7321\n",
      "Epoch 92/100\n",
      "112/112 [==============================] - 0s 52us/step - loss: 0.4394 - accuracy: 0.7857 - val_loss: 0.4813 - val_accuracy: 0.7321\n",
      "Epoch 93/100\n",
      "112/112 [==============================] - 0s 52us/step - loss: 0.4367 - accuracy: 0.7857 - val_loss: 0.4820 - val_accuracy: 0.7321\n",
      "Epoch 94/100\n",
      "112/112 [==============================] - 0s 51us/step - loss: 0.4374 - accuracy: 0.7857 - val_loss: 0.4853 - val_accuracy: 0.7321\n",
      "Epoch 95/100\n",
      "112/112 [==============================] - 0s 49us/step - loss: 0.4353 - accuracy: 0.7857 - val_loss: 0.4841 - val_accuracy: 0.7321\n",
      "Epoch 96/100\n",
      "112/112 [==============================] - 0s 51us/step - loss: 0.4344 - accuracy: 0.7857 - val_loss: 0.4797 - val_accuracy: 0.7321\n",
      "Epoch 97/100\n",
      "112/112 [==============================] - 0s 49us/step - loss: 0.4344 - accuracy: 0.7857 - val_loss: 0.4775 - val_accuracy: 0.7321\n",
      "Epoch 98/100\n",
      "112/112 [==============================] - 0s 50us/step - loss: 0.4352 - accuracy: 0.7857 - val_loss: 0.4846 - val_accuracy: 0.7321\n",
      "Epoch 99/100\n",
      "112/112 [==============================] - 0s 52us/step - loss: 0.4319 - accuracy: 0.7857 - val_loss: 0.4833 - val_accuracy: 0.7321\n",
      "Epoch 100/100\n",
      "112/112 [==============================] - 0s 54us/step - loss: 0.4301 - accuracy: 0.7857 - val_loss: 0.4770 - val_accuracy: 0.7321\n"
     ]
    },
    {
     "data": {
      "text/plain": [
       "<keras.callbacks.callbacks.History at 0x13ac3eeb8>"
      ]
     },
     "execution_count": 7,
     "metadata": {},
     "output_type": "execute_result"
    }
   ],
   "source": [
    "model.compile(loss='categorical_crossentropy',optimizer='adam',metrics=['accuracy'])\n",
    "model.fit(X_train,y_train,epochs=100,batch_size=16,validation_data=(X_test,y_test))"
   ]
  },
  {
   "cell_type": "code",
   "execution_count": 11,
   "metadata": {},
   "outputs": [
    {
     "name": "stdout",
     "output_type": "stream",
     "text": [
      "[4. 3.]\n"
     ]
    },
    {
     "data": {
      "text/plain": [
       "array([[0.9138657, 0.0861343]], dtype=float32)"
      ]
     },
     "execution_count": 11,
     "metadata": {},
     "output_type": "execute_result"
    }
   ],
   "source": [
    "print(X_test[0])\n",
    "test_input=[X_test[0]]\n",
    "test_input1=np.asarray(test_input)\n",
    "model.predict(test_input1)"
   ]
  }
 ],
 "metadata": {
  "kernelspec": {
   "display_name": "Python 3",
   "language": "python",
   "name": "python3"
  },
  "language_info": {
   "codemirror_mode": {
    "name": "ipython",
    "version": 3
   },
   "file_extension": ".py",
   "mimetype": "text/x-python",
   "name": "python",
   "nbconvert_exporter": "python",
   "pygments_lexer": "ipython3",
   "version": "3.7.3"
  }
 },
 "nbformat": 4,
 "nbformat_minor": 2
}
