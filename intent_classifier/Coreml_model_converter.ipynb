{
 "cells": [
  {
   "cell_type": "markdown",
   "metadata": {},
   "source": [
    "# Import dependencies"
   ]
  },
  {
   "cell_type": "code",
   "execution_count": 1,
   "metadata": {},
   "outputs": [
    {
     "name": "stderr",
     "output_type": "stream",
     "text": [
      "WARNING:root:Keras version 2.3.0 detected. Last version known to be fully compatible of Keras is 2.2.4 .\n"
     ]
    }
   ],
   "source": [
    "import coremltools\n",
    "import pandas as pd"
   ]
  },
  {
   "cell_type": "markdown",
   "metadata": {},
   "source": [
    "# Conversion\n",
    "\n",
    "Using coremltools convert the saved .h5 model into .mlmodel.\n",
    "\n",
    "Parameters to be passed are:\n",
    "\n",
    "    1. Path to the saved .h5 model\n",
    "    2. Labels of the model as output\n",
    "    3. Path to save the .mlmodel"
   ]
  },
  {
   "cell_type": "code",
   "execution_count": 2,
   "metadata": {},
   "outputs": [
    {
     "name": "stdout",
     "output_type": "stream",
     "text": [
      "['Show Bill', 'Show Amount', 'Pay ', 'Payment mode', 'Confusion', 'Minimum due', 'Recurring payments', 'Add credit card', 'Add biller', 'Corporate']\n",
      "WARNING:tensorflow:From //anaconda3/lib/python3.7/site-packages/keras/backend/tensorflow_backend.py:422: The name tf.global_variables is deprecated. Please use tf.compat.v1.global_variables instead.\n",
      "\n"
     ]
    },
    {
     "name": "stderr",
     "output_type": "stream",
     "text": [
      "WARNING:tensorflow:From //anaconda3/lib/python3.7/site-packages/keras/backend/tensorflow_backend.py:422: The name tf.global_variables is deprecated. Please use tf.compat.v1.global_variables instead.\n",
      "\n"
     ]
    },
    {
     "name": "stdout",
     "output_type": "stream",
     "text": [
      "0 : embedding_2_input, <keras.engine.input_layer.InputLayer object at 0x1417f4ac8>\n",
      "1 : embedding_2, <keras.layers.embeddings.Embedding object at 0x1417f4a90>\n",
      "2 : bidirectional_2, <keras.layers.wrappers.Bidirectional object at 0x1417f4828>\n",
      "3 : dense_2, <keras.layers.core.Dense object at 0x14179a898>\n",
      "4 : dense_2__activation__, <keras.layers.core.Activation object at 0x1416db0f0>\n"
     ]
    }
   ],
   "source": [
    "#xls=pd.ExcelFile('ML Data set.xlsx')\n",
    "# #df=pd.read_excel(xls,'Intent Training Set')\n",
    "#df=pd.read_excel(xls,'Auto_correct existing')\n",
    "df=pd.read_excel('USBank_Intent - RM.xlsx')\n",
    "\n",
    "labels=[]\n",
    "for col in df.columns:\n",
    "    labels.append(col)\n",
    "print(labels)\n",
    "    \n",
    "ner_label=[\"other\",\"Duration\",\"Date\",\"Drug\",\"Quantity\"]\n",
    "\n",
    "coreml_model = coremltools.converters.keras.convert('intent_class_QA.h5',class_labels = labels)\n",
    "coreml_model.save('intent_class_USbank.mlmodel')"
   ]
  },
  {
   "cell_type": "code",
   "execution_count": 3,
   "metadata": {},
   "outputs": [],
   "source": [
    "import numpy as np\n",
    "tokens=[28.0, 3.0, 0.0, 0.0, 5.0, 23.0, 0.0, 0.0, 0.0, 0.0]\n",
    "tokens=np.array(tokens,dtype=np.double)\n",
    "tokens = tokens.reshape(10,1,1)\n",
    "#output=coreml_model.predict({'input1':tokens})\n",
    "#coreml_model.input_description"
   ]
  },
  {
   "cell_type": "markdown",
   "metadata": {},
   "source": [
    "# Reshape\n",
    "\n",
    "It is necessary to reshape to make it into a multi array according to input description of the coreml model"
   ]
  },
  {
   "cell_type": "code",
   "execution_count": 4,
   "metadata": {},
   "outputs": [
    {
     "data": {
      "text/plain": [
       "'Add biller'"
      ]
     },
     "execution_count": 4,
     "metadata": {},
     "output_type": "execute_result"
    }
   ],
   "source": [
    "output=coreml_model.predict({'input1':tokens})\n",
    "output['classLabel']"
   ]
  },
  {
   "cell_type": "code",
   "execution_count": null,
   "metadata": {},
   "outputs": [],
   "source": []
  }
 ],
 "metadata": {
  "kernelspec": {
   "display_name": "Python 3",
   "language": "python",
   "name": "python3"
  },
  "language_info": {
   "codemirror_mode": {
    "name": "ipython",
    "version": 3
   },
   "file_extension": ".py",
   "mimetype": "text/x-python",
   "name": "python",
   "nbconvert_exporter": "python",
   "pygments_lexer": "ipython3",
   "version": "3.7.3"
  }
 },
 "nbformat": 4,
 "nbformat_minor": 2
}
